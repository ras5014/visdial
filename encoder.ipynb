{
 "cells": [
  {
   "cell_type": "code",
   "execution_count": 1,
   "metadata": {},
   "outputs": [
    {
     "name": "stdout",
     "output_type": "stream",
     "text": [
      "importing Jupyter notebook from /home/abc/Desktop/VisDial3/visdial/utils/dynamic_rnn.ipynb\n"
     ]
    }
   ],
   "source": [
    "import torch\n",
    "from torch import nn\n",
    "from torch.nn import functional as F\n",
    "\n",
    "import import_ipynb\n",
    "from utils.dynamic_rnn import DynamicRNN"
   ]
  },
  {
   "cell_type": "code",
   "execution_count": null,
   "metadata": {},
   "outputs": [],
   "source": [
    "class LateFusionEncoder(nn.Module):\n",
    "    def __init__(self, config, vocabulary):\n",
    "        super().__init__()\n",
    "        self.config = config\n",
    "\n",
    "        # To embed the words in question & dialog history\n",
    "        self.word_embed = nn.Embedding(\n",
    "            len(vocabulary),\n",
    "            config[\"word_embedding_size\"],\n",
    "            padding_idx=vocabulary.PAD_INDEX\n",
    "        )\n",
    "\n",
    "        # To apply LSTM on dialog history\n",
    "        self.hist_rnn = nn.LSTM(\n",
    "            config[\"word_embedding_size\"],\n",
    "            config[\"lstm_hidden_size\"],\n",
    "            config[\"lstm_num_layers\"],\n",
    "            batch_first=True,\n",
    "            dropout=config[\"dropout\"],\n",
    "        )\n",
    "\n",
    "        # To apply LSTM on question at time t\n",
    "        self.ques_rnn = nn.LSTM(\n",
    "            config[\"word_embedding_size\"],\n",
    "            config[\"lstm_hidden_size\"],\n",
    "            config[\"lstm_num_layers\"],\n",
    "            batch_first=True,\n",
    "            dropout=config[\"dropout\"],\n",
    "        )\n",
    "\n",
    "        # To avoid overfitting\n",
    "        self.dropout = nn.Dropout(p=config[\"dropout\"]) \n",
    "\n",
    "        # For reference resolution in question & dialog history\n",
    "        self.hist_rnn = DynamicRNN(self.hist_rnn)\n",
    "        self.ques_rnn = DynamicRNN(self.ques_rnn)\n",
    "\n",
    "        # Project or convert 2048 image-feature vectors to 512 size lstm vectors\n",
    "        self.image_features_projection = nn.Linear(\n",
    "            config[\"img_feature_size\"], config[\"lstm_hidden_size\"]\n",
    "        )\n",
    "\n",
    "        # Calculating Attention weights\n",
    "        self.attention_proj = nn.Linear(config[\"lstm_hidden_size\"], 1)\n",
    "\n",
    "        # Defining a fusion size by combining the image, question & history\n",
    "        fusion_size = (\n",
    "            config[\"img_feature_size\"] + config[\"lstm_hidden_size\"] * 2\n",
    "        )\n",
    "\n",
    "        # Combinning the img, ques & history\n",
    "        self.fusion = nn.Linear(fusion_size, config[\"lstm_hidden_size\"])\n",
    "\n",
    "        # Initilizing Weights\n",
    "        nn.init.kaiming_uniform_(self.image_features_projection.weight)\n",
    "        nn.init.constant_(self.image_features_projection.bias, 0)\n",
    "        nn.init.kaiming_uniform_(self.fusion.weight)\n",
    "        nn.init.constant_(self.fusion.bias, 0)\n",
    "\n"
   ]
  }
 ],
 "metadata": {
  "kernelspec": {
   "display_name": "Python 3",
   "language": "python",
   "name": "python3"
  },
  "language_info": {
   "codemirror_mode": {
    "name": "ipython",
    "version": 3
   },
   "file_extension": ".py",
   "mimetype": "text/x-python",
   "name": "python",
   "nbconvert_exporter": "python",
   "pygments_lexer": "ipython3",
   "version": "3.6.10"
  }
 },
 "nbformat": 4,
 "nbformat_minor": 2
}
