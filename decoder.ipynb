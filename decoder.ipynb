{
 "cells": [
  {
   "cell_type": "code",
   "execution_count": 1,
   "metadata": {},
   "outputs": [
    {
     "name": "stdout",
     "output_type": "stream",
     "text": [
      "importing Jupyter notebook from /home/abc/Desktop/VisDial3/visdial/utils/dynamic_rnn.ipynb\n"
     ]
    }
   ],
   "source": [
    "import torch\n",
    "from torch import nn\n",
    "\n",
    "import import_ipynb\n",
    "from utils.dynamic_rnn import DynamicRNN"
   ]
  },
  {
   "cell_type": "code",
   "execution_count": null,
   "metadata": {},
   "outputs": [],
   "source": [
    "class DiscriminativeDecoder(nn.Module):\n",
    "    def __init__(self, config, vocabulary):\n",
    "        super().__init__()\n",
    "        self.config = config\n",
    "        \n",
    "        # To embed the answer options\n",
    "        self.word_embed = nn.Embedding(\n",
    "            len(vocabulary),\n",
    "            config[\"word_embedding_size\"],\n",
    "            padding_idx=vocabulary.PAD_INDEX,\n",
    "        )\n",
    "\n",
    "        # Applying LSTM on answer options\n",
    "        self.option_rnn = nn.LSTM(\n",
    "            config[\"word_embedding_size\"],\n",
    "            config[\"lstm_hidden_size\"],\n",
    "            config[\"lstm_num_layers\"],\n",
    "            batch_first=True,\n",
    "            dropout = config[\"dropout\"],\n",
    "        )\n",
    "\n",
    "        # Options are variable length padded sequences, use DynamicRNN.\n",
    "        # This is to make the answer options representation identical cause initially they are variable in length \n",
    "        self.options_rnn = DynamicRNN(self.option_rnn)\n",
    "\n",
    "    def forward(self, encoder_output, batch):\n",
    "        # Input Given (encoder's output & candidate answer options) \n",
    "        # Here we need to predict a score for each answer options\n",
    "\n",
    "        "
   ]
  }
 ],
 "metadata": {
  "kernelspec": {
   "display_name": "Python 3",
   "language": "python",
   "name": "python3"
  },
  "language_info": {
   "codemirror_mode": {
    "name": "ipython",
    "version": 3
   },
   "file_extension": ".py",
   "mimetype": "text/x-python",
   "name": "python",
   "nbconvert_exporter": "python",
   "pygments_lexer": "ipython3",
   "version": "3.6.10"
  }
 },
 "nbformat": 4,
 "nbformat_minor": 2
}
